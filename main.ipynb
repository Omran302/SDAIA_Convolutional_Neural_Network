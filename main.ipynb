{
 "cells": [
  {
   "cell_type": "code",
   "execution_count": 17,
   "id": "5ea8bcf4",
   "metadata": {
    "ExecuteTime": {
     "end_time": "2021-12-09T01:39:26.431041Z",
     "start_time": "2021-12-09T01:39:20.444153Z"
    }
   },
   "outputs": [
    {
     "name": "stdout",
     "output_type": "stream",
     "text": [
      "Collecting opencv-python\n",
      "  Downloading opencv_python-4.5.4.60-cp39-cp39-macosx_11_0_arm64.whl (27.9 MB)\n",
      "     |████████████████████████████████| 27.9 MB 8.1 MB/s            \n",
      "\u001b[?25hRequirement already satisfied: numpy>=1.21.0 in /Users/ali/miniforge3/lib/python3.9/site-packages (from opencv-python) (1.21.4)\n",
      "Installing collected packages: opencv-python\n",
      "Successfully installed opencv-python-4.5.4.60\n"
     ]
    }
   ],
   "source": [
    "!pip install opencv-python"
   ]
  },
  {
   "cell_type": "code",
   "execution_count": 2,
   "id": "f06d89fd",
   "metadata": {
    "ExecuteTime": {
     "end_time": "2021-12-09T01:43:37.286492Z",
     "start_time": "2021-12-09T01:43:32.003683Z"
    }
   },
   "outputs": [],
   "source": [
    "import pandas as pd\n",
    "import numpy as np\n",
    "import matplotlib.pyplot as plt\n",
    "import seaborn as sns\n",
    "from sklearn.model_selection import train_test_split\n",
    "import cv2\n",
    "import tensorflow as tf\n",
    "from tensorflow.keras.models import Sequential\n",
    "from tensorflow.keras.layers import Dense,Dropout,Activation, Flatten, Conv2D ,MaxPooling2D\n",
    "from sklearn.metrics import confusion_matrix\n",
    "%matplotlib inline\n",
    "from cf_matrix import make_confusion_matrix\n",
    "sns.set_context('talk')"
   ]
  },
  {
   "cell_type": "code",
   "execution_count": 6,
   "id": "51868be5",
   "metadata": {
    "ExecuteTime": {
     "end_time": "2021-12-09T01:45:29.110971Z",
     "start_time": "2021-12-09T01:45:29.103546Z"
    }
   },
   "outputs": [],
   "source": [
    "train_path = 'data/train/'\n",
    "test_path = 'data/test/'\n"
   ]
  },
  {
   "cell_type": "code",
   "execution_count": 7,
   "id": "e5ca4f7e",
   "metadata": {
    "ExecuteTime": {
     "end_time": "2021-12-09T01:45:30.257496Z",
     "start_time": "2021-12-09T01:45:30.148755Z"
    }
   },
   "outputs": [],
   "source": [
    "train_df = pd.read_csv('data/train.txt', sep=\" \", header=None)\n",
    "train_df.columns=['id', 'file_paths', 'labels', 'data source']\n",
    "train_df=train_df.drop(['id', 'data source'], axis=1)\n"
   ]
  },
  {
   "cell_type": "code",
   "execution_count": 8,
   "id": "2df1bd71",
   "metadata": {
    "ExecuteTime": {
     "end_time": "2021-12-09T01:45:30.618867Z",
     "start_time": "2021-12-09T01:45:30.613248Z"
    }
   },
   "outputs": [],
   "source": [
    "size = train_df.shape[0]\n",
    "sample=10400/size\n",
    "post_sample=400/10400\n",
    "post_sample2=1000/10000\n"
   ]
  },
  {
   "cell_type": "code",
   "execution_count": 9,
   "id": "27b2c4ad",
   "metadata": {
    "ExecuteTime": {
     "end_time": "2021-12-09T01:45:31.175225Z",
     "start_time": "2021-12-09T01:45:31.160576Z"
    }
   },
   "outputs": [],
   "source": [
    "train_df = train_df.sample(frac=sample,replace=True, random_state=1,ignore_index=True)\n"
   ]
  },
  {
   "cell_type": "code",
   "execution_count": 10,
   "id": "3845ab47",
   "metadata": {
    "ExecuteTime": {
     "end_time": "2021-12-09T01:47:26.822054Z",
     "start_time": "2021-12-09T01:45:31.755305Z"
    }
   },
   "outputs": [],
   "source": [
    "IMG_SIZE = 250\n",
    "X=[]\n",
    "img=0\n",
    "for file in train_df.file_paths:\n",
    "    img=cv2.imread(f'{train_path}/{file}',cv2.IMREAD_GRAYSCALE)\n",
    "    new_img=cv2.resize(img,(IMG_SIZE, IMG_SIZE))\n",
    "    new_img=new_img/255.0\n",
    "    X.append(new_img)\n",
    "\n",
    "X = np.array(X).reshape(-1,IMG_SIZE,IMG_SIZE,1)\n",
    "y = train_df['labels'].map({'negative':0, 'positive':1}).to_numpy().reshape(-1, 1)\n"
   ]
  },
  {
   "cell_type": "code",
   "execution_count": 11,
   "id": "a07792f0",
   "metadata": {
    "ExecuteTime": {
     "end_time": "2021-12-09T01:48:02.347651Z",
     "start_time": "2021-12-09T01:47:26.864427Z"
    }
   },
   "outputs": [],
   "source": [
    "X_train, X_test, y_train, y_test = train_test_split(X,y, test_size=post_sample, random_state=255)\n"
   ]
  },
  {
   "cell_type": "code",
   "execution_count": 12,
   "id": "caa3c552",
   "metadata": {
    "ExecuteTime": {
     "end_time": "2021-12-09T01:48:03.289905Z",
     "start_time": "2021-12-09T01:48:02.392117Z"
    }
   },
   "outputs": [],
   "source": [
    "\n",
    "model = Sequential()\n",
    "model.add(Conv2D(64, (9, 9), input_shape = X.shape[1:]))\n",
    "model.add(Activation(\"relu\"))\n",
    "model.add(MaxPooling2D(pool_size=(3,3)))\n",
    "model.add(Conv2D(32, (6, 6)))\n",
    "model.add(Activation(\"relu\"))\n",
    "model.add(MaxPooling2D(pool_size=(3,3)))\n",
    "model.add(Conv2D(16, (3, 3)))\n",
    "model.add(Activation(\"relu\"))\n",
    "model.add(MaxPooling2D(pool_size=(3,3)))\n",
    "model.add(Flatten())\n",
    "model.add(Dense(64))\n",
    "model.add(Dense(32))\n",
    "model.add(Dense(16))\n",
    "model.add(Dense(2))\n",
    "model.add(Activation('softmax'))\n",
    "\n",
    "model.compile(optimizer = 'adam',loss = 'sparse_categorical_crossentropy', metrics=['accuracy'])\n"
   ]
  },
  {
   "cell_type": "code",
   "execution_count": 13,
   "id": "c8821f7a",
   "metadata": {
    "ExecuteTime": {
     "end_time": "2021-12-09T01:48:03.306180Z",
     "start_time": "2021-12-09T01:48:03.303877Z"
    }
   },
   "outputs": [],
   "source": [
    "n=20\n"
   ]
  },
  {
   "cell_type": "code",
   "execution_count": 14,
   "id": "b1c867a8",
   "metadata": {
    "ExecuteTime": {
     "end_time": "2021-12-09T20:14:42.495847Z",
     "start_time": "2021-12-09T01:48:03.316481Z"
    }
   },
   "outputs": [
    {
     "name": "stderr",
     "output_type": "stream",
     "text": [
      "2021-12-09 04:48:33.755268: I tensorflow/compiler/mlir/mlir_graph_optimization_pass.cc:116] None of the MLIR optimization passes are enabled (registered 2)\n",
      "2021-12-09 04:48:33.763119: W tensorflow/core/platform/profile_utils/cpu_utils.cc:126] Failed to get CPU frequency: 0 Hz\n"
     ]
    },
    {
     "name": "stdout",
     "output_type": "stream",
     "text": [
      "Epoch 1/20\n",
      "WARNING:tensorflow:AutoGraph could not transform <function Model.make_train_function.<locals>.train_function at 0x1483ec0d0> and will run it as-is.\n",
      "Please report this to the TensorFlow team. When filing the bug, set the verbosity to 10 (on Linux, `export AUTOGRAPH_VERBOSITY=10`) and attach the full output.\n",
      "Cause: unsupported operand type(s) for -: 'NoneType' and 'int'\n",
      "To silence this warning, decorate the function with @tf.autograph.experimental.do_not_convert\n",
      "WARNING: AutoGraph could not transform <function Model.make_train_function.<locals>.train_function at 0x1483ec0d0> and will run it as-is.\n",
      "Please report this to the TensorFlow team. When filing the bug, set the verbosity to 10 (on Linux, `export AUTOGRAPH_VERBOSITY=10`) and attach the full output.\n",
      "Cause: unsupported operand type(s) for -: 'NoneType' and 'int'\n",
      "To silence this warning, decorate the function with @tf.autograph.experimental.do_not_convert\n",
      "282/282 [==============================] - ETA: 0s - loss: 0.5662 - accuracy: 0.6674WARNING:tensorflow:AutoGraph could not transform <function Model.make_test_function.<locals>.test_function at 0x14a1fa790> and will run it as-is.\n",
      "Please report this to the TensorFlow team. When filing the bug, set the verbosity to 10 (on Linux, `export AUTOGRAPH_VERBOSITY=10`) and attach the full output.\n",
      "Cause: unsupported operand type(s) for -: 'NoneType' and 'int'\n",
      "To silence this warning, decorate the function with @tf.autograph.experimental.do_not_convert\n",
      "WARNING: AutoGraph could not transform <function Model.make_test_function.<locals>.test_function at 0x14a1fa790> and will run it as-is.\n",
      "Please report this to the TensorFlow team. When filing the bug, set the verbosity to 10 (on Linux, `export AUTOGRAPH_VERBOSITY=10`) and attach the full output.\n",
      "Cause: unsupported operand type(s) for -: 'NoneType' and 'int'\n",
      "To silence this warning, decorate the function with @tf.autograph.experimental.do_not_convert\n",
      "282/282 [==============================] - 308s 1s/step - loss: 0.5659 - accuracy: 0.6677 - val_loss: 0.3799 - val_accuracy: 0.8210\n",
      "Epoch 2/20\n",
      "282/282 [==============================] - 336s 1s/step - loss: 0.3590 - accuracy: 0.8430 - val_loss: 0.3330 - val_accuracy: 0.8410\n",
      "Epoch 3/20\n",
      "282/282 [==============================] - 8671s 31s/step - loss: 0.3158 - accuracy: 0.8654 - val_loss: 0.2855 - val_accuracy: 0.8760\n",
      "Epoch 4/20\n",
      "282/282 [==============================] - 1971s 3s/step - loss: 0.2687 - accuracy: 0.8826 - val_loss: 0.2646 - val_accuracy: 0.8840\n",
      "Epoch 5/20\n",
      "282/282 [==============================] - 396s 1s/step - loss: 0.2304 - accuracy: 0.9068 - val_loss: 0.2568 - val_accuracy: 0.8940\n",
      "Epoch 6/20\n",
      "282/282 [==============================] - 394s 1s/step - loss: 0.2122 - accuracy: 0.9155 - val_loss: 0.2685 - val_accuracy: 0.9010\n",
      "Epoch 7/20\n",
      "282/282 [==============================] - 7434s 26s/step - loss: 0.2102 - accuracy: 0.9186 - val_loss: 0.2143 - val_accuracy: 0.9240\n",
      "Epoch 8/20\n",
      "282/282 [==============================] - 8753s 31s/step - loss: 0.1681 - accuracy: 0.9326 - val_loss: 0.2688 - val_accuracy: 0.9030\n",
      "Epoch 9/20\n",
      "282/282 [==============================] - 9252s 33s/step - loss: 0.1602 - accuracy: 0.9341 - val_loss: 0.2399 - val_accuracy: 0.9120\n",
      "Epoch 10/20\n",
      "282/282 [==============================] - 386s 1s/step - loss: 0.1889 - accuracy: 0.9163 - val_loss: 0.2511 - val_accuracy: 0.9320\n",
      "Epoch 11/20\n",
      "282/282 [==============================] - 402s 1s/step - loss: 0.1404 - accuracy: 0.9478 - val_loss: 0.2491 - val_accuracy: 0.9250\n",
      "Epoch 12/20\n",
      "282/282 [==============================] - 4442s 16s/step - loss: 0.1322 - accuracy: 0.9488 - val_loss: 0.2111 - val_accuracy: 0.9290\n",
      "Epoch 13/20\n",
      "282/282 [==============================] - 4400s 16s/step - loss: 0.1349 - accuracy: 0.9498 - val_loss: 0.2545 - val_accuracy: 0.9390\n",
      "Epoch 14/20\n",
      "282/282 [==============================] - 6369s 23s/step - loss: 0.1195 - accuracy: 0.9509 - val_loss: 0.3426 - val_accuracy: 0.9110\n",
      "Epoch 15/20\n",
      "282/282 [==============================] - 10456s 37s/step - loss: 0.1150 - accuracy: 0.9541 - val_loss: 0.3190 - val_accuracy: 0.9240\n",
      "Epoch 16/20\n",
      "282/282 [==============================] - 356s 1s/step - loss: 0.1289 - accuracy: 0.9498 - val_loss: 0.2931 - val_accuracy: 0.9210\n",
      "Epoch 17/20\n",
      "282/282 [==============================] - 374s 1s/step - loss: 0.1087 - accuracy: 0.9561 - val_loss: 0.2203 - val_accuracy: 0.9280\n",
      "Epoch 18/20\n",
      "282/282 [==============================] - 367s 1s/step - loss: 0.0936 - accuracy: 0.9616 - val_loss: 0.2680 - val_accuracy: 0.9310\n",
      "Epoch 19/20\n",
      "282/282 [==============================] - 362s 1s/step - loss: 0.0851 - accuracy: 0.9667 - val_loss: 0.2305 - val_accuracy: 0.9400\n",
      "Epoch 20/20\n",
      "282/282 [==============================] - 939s 3s/step - loss: 0.0811 - accuracy: 0.9675 - val_loss: 0.2625 - val_accuracy: 0.9420\n"
     ]
    }
   ],
   "source": [
    "history = model.fit(X_train, y_train, epochs=n ,batch_size=32,verbose=1, validation_split=post_sample2, shuffle = True, use_multiprocessing=True)\n"
   ]
  },
  {
   "cell_type": "code",
   "execution_count": 15,
   "id": "0f3c6ce2",
   "metadata": {
    "ExecuteTime": {
     "end_time": "2021-12-09T20:14:42.648016Z",
     "start_time": "2021-12-09T20:14:42.642782Z"
    }
   },
   "outputs": [
    {
     "name": "stdout",
     "output_type": "stream",
     "text": [
      "Model: \"sequential\"\n",
      "_________________________________________________________________\n",
      "Layer (type)                 Output Shape              Param #   \n",
      "=================================================================\n",
      "conv2d (Conv2D)              (None, 242, 242, 64)      5248      \n",
      "_________________________________________________________________\n",
      "activation (Activation)      (None, 242, 242, 64)      0         \n",
      "_________________________________________________________________\n",
      "max_pooling2d (MaxPooling2D) (None, 80, 80, 64)        0         \n",
      "_________________________________________________________________\n",
      "conv2d_1 (Conv2D)            (None, 75, 75, 32)        73760     \n",
      "_________________________________________________________________\n",
      "activation_1 (Activation)    (None, 75, 75, 32)        0         \n",
      "_________________________________________________________________\n",
      "max_pooling2d_1 (MaxPooling2 (None, 25, 25, 32)        0         \n",
      "_________________________________________________________________\n",
      "conv2d_2 (Conv2D)            (None, 23, 23, 16)        4624      \n",
      "_________________________________________________________________\n",
      "activation_2 (Activation)    (None, 23, 23, 16)        0         \n",
      "_________________________________________________________________\n",
      "max_pooling2d_2 (MaxPooling2 (None, 7, 7, 16)          0         \n",
      "_________________________________________________________________\n",
      "flatten (Flatten)            (None, 784)               0         \n",
      "_________________________________________________________________\n",
      "dense (Dense)                (None, 64)                50240     \n",
      "_________________________________________________________________\n",
      "dense_1 (Dense)              (None, 32)                2080      \n",
      "_________________________________________________________________\n",
      "dense_2 (Dense)              (None, 16)                528       \n",
      "_________________________________________________________________\n",
      "dense_3 (Dense)              (None, 2)                 34        \n",
      "_________________________________________________________________\n",
      "activation_3 (Activation)    (None, 2)                 0         \n",
      "=================================================================\n",
      "Total params: 136,514\n",
      "Trainable params: 136,514\n",
      "Non-trainable params: 0\n",
      "_________________________________________________________________\n"
     ]
    }
   ],
   "source": [
    "model.summary()\n"
   ]
  },
  {
   "cell_type": "code",
   "execution_count": 16,
   "id": "3e98509d",
   "metadata": {
    "ExecuteTime": {
     "end_time": "2021-12-09T20:14:47.781618Z",
     "start_time": "2021-12-09T20:14:42.659999Z"
    }
   },
   "outputs": [
    {
     "name": "stdout",
     "output_type": "stream",
     "text": [
      "13/13 - 4s - loss: 0.2648 - accuracy: 0.9175\n"
     ]
    }
   ],
   "source": [
    "test_loss, test_acc = model.evaluate(X_test,  y_test, verbose=2)\n"
   ]
  },
  {
   "cell_type": "code",
   "execution_count": 17,
   "id": "e22036e6",
   "metadata": {
    "ExecuteTime": {
     "end_time": "2021-12-09T20:14:47.805586Z",
     "start_time": "2021-12-09T20:14:47.798833Z"
    }
   },
   "outputs": [],
   "source": [
    "def accur():\n",
    "\n",
    "    print('\\nTest accuracy:', test_acc ,\"\\n\")\n",
    "\n",
    "    acc = history.history['accuracy']\n",
    "    val_acc = history.history['val_accuracy']\n",
    "\n",
    "    loss = history.history['loss']\n",
    "    val_loss = history.history['val_loss']\n",
    "\n",
    "    epochs_range = range(n)\n",
    "\n",
    "    plt.figure(figsize=(16,9))\n",
    "    plt.subplot(1, 2, 1)\n",
    "    plt.plot(epochs_range, acc, label='Training Accuracy')\n",
    "    plt.plot(epochs_range, val_acc, label='Validation Accuracy')\n",
    "    plt.legend(loc='lower right')\n",
    "    plt.title('Training and Validation Accuracy')\n",
    "\n",
    "    plt.subplot(1, 2, 2)\n",
    "    plt.plot(epochs_range, loss, label='Training Loss')\n",
    "    plt.plot(epochs_range, val_loss, label='Validation Loss')\n",
    "    plt.legend(loc='upper right')\n",
    "    plt.title('Training and Validation Loss')\n",
    "    plt.show()\n"
   ]
  },
  {
   "cell_type": "code",
   "execution_count": 18,
   "id": "34999a06",
   "metadata": {
    "ExecuteTime": {
     "end_time": "2021-12-09T20:14:48.023977Z",
     "start_time": "2021-12-09T20:14:47.813894Z"
    }
   },
   "outputs": [
    {
     "name": "stdout",
     "output_type": "stream",
     "text": [
      "\n",
      "Test accuracy: 0.9175000190734863 \n",
      "\n"
     ]
    },
    {
     "data": {
      "image/png": "[encoded data removed]",
      "text/plain": [
       "<Figure size 1152x648 with 2 Axes>"
      ]
     },
     "metadata": {
      "needs_background": "light"
     },
     "output_type": "display_data"
    }
   ],
   "source": [
    "accur()\n"
   ]
  },
  {
   "cell_type": "code",
   "execution_count": null,
   "id": "e436ab6b",
   "metadata": {},
   "outputs": [],
   "source": []
  }
 ],
 "metadata": {
  "kernelspec": {
   "display_name": "Python 3 (ipykernel)",
   "language": "python",
   "name": "python3"
  },
  "language_info": {
   "codemirror_mode": {
    "name": "ipython",
    "version": 3
   },
   "file_extension": ".py",
   "mimetype": "text/x-python",
   "name": "python",
   "nbconvert_exporter": "python",
   "pygments_lexer": "ipython3",
   "version": "3.8.12"
  },
  "toc": {
   "base_numbering": 1,
   "nav_menu": {},
   "number_sections": true,
   "sideBar": true,
   "skip_h1_title": false,
   "title_cell": "Table of Contents",
   "title_sidebar": "Contents",
   "toc_cell": false,
   "toc_position": {},
   "toc_section_display": true,
   "toc_window_display": false
  },
  "varInspector": {
   "cols": {
    "lenName": 16,
    "lenType": 16,
    "lenVar": 40
   },
   "kernels_config": {
    "python": {
     "delete_cmd_postfix": "",
     "delete_cmd_prefix": "del ",
     "library": "var_list.py",
     "varRefreshCmd": "print(var_dic_list())"
    },
    "r": {
     "delete_cmd_postfix": ") ",
     "delete_cmd_prefix": "rm(",
     "library": "var_list.r",
     "varRefreshCmd": "cat(var_dic_list()) "
    }
   },
   "types_to_exclude": [
    "module",
    "function",
    "builtin_function_or_method",
    "instance",
    "_Feature"
   ],
   "window_display": false
  }
 },
 "nbformat": 4,
 "nbformat_minor": 5
}
